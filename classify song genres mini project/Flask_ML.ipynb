{
  "nbformat": 4,
  "nbformat_minor": 0,
  "metadata": {
    "colab": {
      "name": "Flask ML.ipynb",
      "provenance": []
    },
    "kernelspec": {
      "name": "python3",
      "display_name": "Python 3"
    }
  },
  "cells": [
    {
      "cell_type": "code",
      "metadata": {
        "colab": {
          "base_uri": "https://localhost:8080/"
        },
        "id": "E3wfbhtpra2C",
        "outputId": "f576d632-148c-4ed7-9633-a3e9ec14ef62"
      },
      "source": [
        "!pip install flask_ngrok "
      ],
      "execution_count": 1,
      "outputs": [
        {
          "output_type": "stream",
          "text": [
            "Collecting flask_ngrok\n",
            "  Downloading https://files.pythonhosted.org/packages/af/6c/f54cb686ad1129e27d125d182f90f52b32f284e6c8df58c1bae54fa1adbc/flask_ngrok-0.0.25-py3-none-any.whl\n",
            "Requirement already satisfied: requests in /usr/local/lib/python3.7/dist-packages (from flask_ngrok) (2.23.0)\n",
            "Requirement already satisfied: Flask>=0.8 in /usr/local/lib/python3.7/dist-packages (from flask_ngrok) (1.1.2)\n",
            "Requirement already satisfied: certifi>=2017.4.17 in /usr/local/lib/python3.7/dist-packages (from requests->flask_ngrok) (2020.12.5)\n",
            "Requirement already satisfied: urllib3!=1.25.0,!=1.25.1,<1.26,>=1.21.1 in /usr/local/lib/python3.7/dist-packages (from requests->flask_ngrok) (1.24.3)\n",
            "Requirement already satisfied: idna<3,>=2.5 in /usr/local/lib/python3.7/dist-packages (from requests->flask_ngrok) (2.10)\n",
            "Requirement already satisfied: chardet<4,>=3.0.2 in /usr/local/lib/python3.7/dist-packages (from requests->flask_ngrok) (3.0.4)\n",
            "Requirement already satisfied: click>=5.1 in /usr/local/lib/python3.7/dist-packages (from Flask>=0.8->flask_ngrok) (7.1.2)\n",
            "Requirement already satisfied: Jinja2>=2.10.1 in /usr/local/lib/python3.7/dist-packages (from Flask>=0.8->flask_ngrok) (2.11.3)\n",
            "Requirement already satisfied: Werkzeug>=0.15 in /usr/local/lib/python3.7/dist-packages (from Flask>=0.8->flask_ngrok) (1.0.1)\n",
            "Requirement already satisfied: itsdangerous>=0.24 in /usr/local/lib/python3.7/dist-packages (from Flask>=0.8->flask_ngrok) (1.1.0)\n",
            "Requirement already satisfied: MarkupSafe>=0.23 in /usr/local/lib/python3.7/dist-packages (from Jinja2>=2.10.1->Flask>=0.8->flask_ngrok) (1.1.1)\n",
            "Installing collected packages: flask-ngrok\n",
            "Successfully installed flask-ngrok-0.0.25\n"
          ],
          "name": "stdout"
        }
      ]
    },
    {
      "cell_type": "code",
      "metadata": {
        "id": "ISXF25QkrdkR"
      },
      "source": [
        "from flask_ngrok import run_with_ngrok\r\n",
        "from flask import Flask, render_template, url_for, request"
      ],
      "execution_count": 2,
      "outputs": []
    },
    {
      "cell_type": "code",
      "metadata": {
        "id": "nUaPi2SdT-no"
      },
      "source": [
        "import pickle\r\n",
        "import pandas as pd\r\n",
        "import datetime as dt\r\n",
        "import re\r\n",
        "from sklearn.preprocessing import OneHotEncoder\r\n",
        "from sklearn.tree import DecisionTreeRegressor"
      ],
      "execution_count": 3,
      "outputs": []
    },
    {
      "cell_type": "code",
      "metadata": {
        "id": "HCvoBbAaH2by"
      },
      "source": [
        "# All the Genres Values\r\n",
        "flatten_genres_all = [ 12,  21,  25,  26,  27,  31,  36,  45,  53,  58,  64,  66,  70,\r\n",
        "        71,  83,  85,  88,  89,  90,  98, 100, 101, 109, 111, 113, 167,\r\n",
        "       314, 359, 361, 404, 439, 440, 539, 542, 580, 811]"
      ],
      "execution_count": 4,
      "outputs": []
    },
    {
      "cell_type": "code",
      "metadata": {
        "colab": {
          "base_uri": "https://localhost:8080/"
        },
        "id": "CAu8k8XNJGlc",
        "outputId": "e24827f6-b72f-4490-9ae5-ce092453055c"
      },
      "source": [
        "# One Hot Encoding to Lanuage Codes\r\n",
        "df_all = pd.DataFrame({'l':['en', 'tr', 'es', 'id', 'zh', 'sr', 'pt', 'fr', 'nl', 'ru', 'de', 'cs', 'it']})\r\n",
        "\r\n",
        "OH_encoder = OneHotEncoder(handle_unknown='ignore', sparse=False)\r\n",
        "OH_l = pd.DataFrame(OH_encoder.fit_transform(df_all[['l']]))\r\n",
        "OH_l.index=df_all.index\r\n",
        "print(OH_l)"
      ],
      "execution_count": 5,
      "outputs": [
        {
          "output_type": "stream",
          "text": [
            "     0    1    2    3    4    5    6    7    8    9    10   11   12\n",
            "0   0.0  0.0  1.0  0.0  0.0  0.0  0.0  0.0  0.0  0.0  0.0  0.0  0.0\n",
            "1   0.0  0.0  0.0  0.0  0.0  0.0  0.0  0.0  0.0  0.0  0.0  1.0  0.0\n",
            "2   0.0  0.0  0.0  1.0  0.0  0.0  0.0  0.0  0.0  0.0  0.0  0.0  0.0\n",
            "3   0.0  0.0  0.0  0.0  0.0  1.0  0.0  0.0  0.0  0.0  0.0  0.0  0.0\n",
            "4   0.0  0.0  0.0  0.0  0.0  0.0  0.0  0.0  0.0  0.0  0.0  0.0  1.0\n",
            "5   0.0  0.0  0.0  0.0  0.0  0.0  0.0  0.0  0.0  0.0  1.0  0.0  0.0\n",
            "6   0.0  0.0  0.0  0.0  0.0  0.0  0.0  0.0  1.0  0.0  0.0  0.0  0.0\n",
            "7   0.0  0.0  0.0  0.0  1.0  0.0  0.0  0.0  0.0  0.0  0.0  0.0  0.0\n",
            "8   0.0  0.0  0.0  0.0  0.0  0.0  0.0  1.0  0.0  0.0  0.0  0.0  0.0\n",
            "9   0.0  0.0  0.0  0.0  0.0  0.0  0.0  0.0  0.0  1.0  0.0  0.0  0.0\n",
            "10  0.0  1.0  0.0  0.0  0.0  0.0  0.0  0.0  0.0  0.0  0.0  0.0  0.0\n",
            "11  1.0  0.0  0.0  0.0  0.0  0.0  0.0  0.0  0.0  0.0  0.0  0.0  0.0\n",
            "12  0.0  0.0  0.0  0.0  0.0  0.0  1.0  0.0  0.0  0.0  0.0  0.0  0.0\n"
          ],
          "name": "stdout"
        }
      ]
    },
    {
      "cell_type": "code",
      "metadata": {
        "id": "YB8V7kO8rl-G"
      },
      "source": [
        "app = Flask(__name__, template_folder='templates')\r\n",
        "run_with_ngrok(app)\r\n",
        "@app.route('/',methods=[\"GET\", 'POST'])\r\n",
        "def predict():\r\n",
        "    if request.method == \"POST\": \r\n",
        "       # getting input with name = title in HTML form \r\n",
        "       title = request.form.get(\"title\") \r\n",
        "       bit_rate = request.form.get(\"bit_rate\", type =int)\r\n",
        "       comments = request.form.get(\"comments\", type =int) \r\n",
        "       duration = request.form.get(\"duration\", type =int)\r\n",
        "       favorites = request.form.get(\"favorites\", type =int) \r\n",
        "       interest = request.form.get(\"interest\", type =int)\r\n",
        "       listens = request.form.get(\"listens\", type =int) \r\n",
        "       number = request.form.get(\"number\", type =int)\r\n",
        "\r\n",
        "       date_created = request.form.get(\"date_created\")\r\n",
        "       date_created = pd.to_datetime(date_created, format=\"%Y %m %d %H\")\r\n",
        "       year_created = date_created.year\r\n",
        "       date_recorded = request.form.get(\"date_recorded\")\r\n",
        "       date_recorded = pd.to_datetime(date_recorded, format=\"%Y %m %d %H\")\r\n",
        "       year_recorded = date_recorded.year\r\n",
        "       recording_period = abs((date_created - date_recorded).days)\r\n",
        "\r\n",
        "       genres_all = request.form.get(\"genres_all\")\r\n",
        "       for i in range(len(flatten_genres_all)):\r\n",
        "         globals()['genres_%s' % flatten_genres_all[i]] = 1 if (str(flatten_genres_all[i]) in re.findall('\\d+', genres_all)) else 0\r\n",
        "      \r\n",
        "       acousticness = request.form.get(\"acousticness\", type=float)\r\n",
        "       danceability = request.form.get(\"danceability\", type=float)\r\n",
        "       energy = request.form.get(\"energy\", type=float) \r\n",
        "       instrumentalness = request.form.get(\"instrumentalness\", type=float)\r\n",
        "       liveness = request.form.get(\"liveness\", type=float) \r\n",
        "       speechiness = request.form.get(\"speechiness\", type=float)\r\n",
        "       tempo = request.form.get(\"tempo\", type=float) \r\n",
        "       valence = request.form.get(\"valence\", type=float)\r\n",
        "\r\n",
        "       language_code = request.form.get(\"combo\")\r\n",
        "       df_lang = pd.DataFrame({'l':[str(language_code)]})\r\n",
        "       OH_cols = pd.DataFrame(OH_encoder.transform(df_lang[['l']]))\r\n",
        "       #print(OH_cols.loc[0,:12])\r\n",
        "\r\n",
        "       song_info = [bit_rate, comments, duration,\r\n",
        "                    favorites, interest, listens,\r\n",
        "                    number, year_created, year_recorded,\r\n",
        "                    recording_period, genres_25, genres_26,\r\n",
        "                    genres_27, genres_31, genres_36,\r\n",
        "                    genres_45, genres_53, genres_58,\r\n",
        "                    genres_64, genres_66, genres_70,\r\n",
        "                    genres_71, genres_83, genres_85,\r\n",
        "                    genres_88, genres_89, genres_90,\r\n",
        "                    genres_98, genres_100, genres_101,\r\n",
        "                    genres_109, genres_111, genres_113,\r\n",
        "                    genres_167, genres_314, genres_359,\r\n",
        "                    genres_361, genres_404, genres_439,\r\n",
        "                    genres_440, genres_539, genres_542,\r\n",
        "                    genres_580, genres_811, acousticness,\r\n",
        "                    danceability, energy, instrumentalness,\r\n",
        "                    liveness, speechiness, tempo,\r\n",
        "                    valence]\r\n",
        "       song_info.extend(OH_cols.loc[0,:12].values)\r\n",
        "       print(song_info)\r\n",
        "       df_song_info = pd.DataFrame([song_info])\r\n",
        "\r\n",
        "       loaded_model = pickle.load(open('decision_tree_model.sav', 'rb'))\r\n",
        "       prediction = loaded_model.predict(df_song_info)\r\n",
        "\r\n",
        "       song_type = 'Rock' if (prediction == 1) else 'Hip-Hop'\r\n",
        "\r\n",
        "       return title + \" song is of type: \" + song_type\r\n",
        "\r\n",
        "    return render_template(\"form.html\") "
      ],
      "execution_count": 9,
      "outputs": []
    },
    {
      "cell_type": "code",
      "metadata": {
        "colab": {
          "base_uri": "https://localhost:8080/"
        },
        "id": "eggMXpxHruo7",
        "outputId": "fb5e3ffd-8a5d-4fab-ec6b-993ca37b1de4"
      },
      "source": [
        "if __name__ == '__main__':\r\n",
        "    app.run()"
      ],
      "execution_count": 10,
      "outputs": [
        {
          "output_type": "stream",
          "text": [
            " * Serving Flask app \"__main__\" (lazy loading)\n",
            " * Environment: production\n",
            "\u001b[31m   WARNING: This is a development server. Do not use it in a production deployment.\u001b[0m\n",
            "\u001b[2m   Use a production WSGI server instead.\u001b[0m\n",
            " * Debug mode: off\n"
          ],
          "name": "stdout"
        },
        {
          "output_type": "stream",
          "text": [
            " * Running on http://127.0.0.1:5000/ (Press CTRL+C to quit)\n"
          ],
          "name": "stderr"
        },
        {
          "output_type": "stream",
          "text": [
            " * Running on http://10de829a64d7.ngrok.io\n",
            " * Traffic stats available on http://127.0.0.1:4040\n"
          ],
          "name": "stdout"
        },
        {
          "output_type": "stream",
          "text": [
            "127.0.0.1 - - [18/Mar/2021 22:16:23] \"\u001b[37mGET / HTTP/1.1\u001b[0m\" 200 -\n",
            "127.0.0.1 - - [18/Mar/2021 22:16:23] \"\u001b[33mGET /favicon.ico HTTP/1.1\u001b[0m\" 404 -\n",
            "/usr/local/lib/python3.7/dist-packages/sklearn/base.py:318: UserWarning: Trying to unpickle estimator DecisionTreeRegressor from version 0.24.1 when using version 0.22.2.post1. This might lead to breaking code or invalid results. Use at your own risk.\n",
            "  UserWarning)\n",
            "127.0.0.1 - - [18/Mar/2021 22:19:32] \"\u001b[37mPOST / HTTP/1.1\u001b[0m\" 200 -\n"
          ],
          "name": "stderr"
        },
        {
          "output_type": "stream",
          "text": [
            "[320000, 0, 211, 3, 1379, 1025, 0, 2017, 2017, 4, 0, 0, 0, 0, 0, 0, 0, 0, 0, 0, 0, 0, 0, 0, 0, 0, 0, 0, 0, 0, 0, 0, 0, 0, 0, 0, 0, 0, 0, 0, 1, 0, 0, 1, 0.99, 0.499, 0.05, 0.94, 0.09, 0.06, 119.0, 0.02, 0.0, 0.0, 1.0, 0.0, 0.0, 0.0, 0.0, 0.0, 0.0, 0.0, 0.0, 0.0, 0.0]\n"
          ],
          "name": "stdout"
        }
      ]
    },
    {
      "cell_type": "code",
      "metadata": {
        "id": "xlBEo47k8Se8"
      },
      "source": [
        ""
      ],
      "execution_count": null,
      "outputs": []
    }
  ]
}